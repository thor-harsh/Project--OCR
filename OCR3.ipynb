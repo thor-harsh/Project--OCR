{
 "cells": [
  {
   "cell_type": "code",
   "execution_count": null,
   "id": "ac8e19af",
   "metadata": {},
   "outputs": [],
   "source": [
    "import os\n",
    "import cv2\n",
    "from paddleocr import PPStructure,draw_structure_result,save_structure_res\n",
    "\n",
    "table_engine = PPStructure(show_log=True)\n",
    "save_folder='./'\n",
    "img_path = 'ocrtest1.png'\n",
    "img = cv2.imread(img_path)\n",
    "result = table_engine(img)\n",
    "save_structure_res(result, save_folder,os.path.basename(img_path).split('.')[0])\n",
    "\n",
    "for line in result:\n",
    "    line.pop('img')\n",
    "    print(line)\n",
    "\n",
    "from PIL import Image\n",
    "\n",
    "font_path = 'bahnschrift.ttf' # font provieded in PaddleOCR\n",
    "image = Image.open(img_path).convert('RGB')\n",
    "im_show = draw_structure_result(image, result,font_path=font_path)\n",
    "im_show = Image.fromarray(im_show)\n",
    "im_show.save('result.jpg')"
   ]
  },
  {
   "cell_type": "markdown",
   "id": "a6675465",
   "metadata": {},
   "source": [
    "# Recognition at various dimensions"
   ]
  },
  {
   "cell_type": "code",
   "execution_count": null,
   "id": "4be61438",
   "metadata": {},
   "outputs": [],
   "source": [
    "import os\n",
    "import cv2\n",
    "from paddleocr import PPStructure,draw_structure_result,save_structure_res\n",
    "\n",
    "table_engine = PPStructure(show_log=True, image_orientation=True)\n",
    "\n",
    "save_folder = './'\n",
    "img_path = 'ocrtest1.png'\n",
    "img = cv2.imread(img_path)\n",
    "result = table_engine(img)\n",
    "save_structure_res(result, save_folder,os.path.basename(img_path).split('.')[0])\n",
    "\n",
    "for line in result:\n",
    "    line.pop('img')\n",
    "    print(line)\n",
    "\n",
    "from PIL import Image\n",
    "\n",
    "font_path = 'bahnschrift.ttf' \n",
    "image = Image.open(img_path).convert('RGB')\n",
    "im_show = draw_structure_result(image, result,font_path=font_path)\n",
    "im_show = Image.fromarray(im_show)\n",
    "im_show.save('result1.xlss')"
   ]
  },
  {
   "cell_type": "markdown",
   "id": "8f0d3158",
   "metadata": {},
   "source": [
    "# Layout Recovery/Actual Image to doc file"
   ]
  },
  {
   "cell_type": "code",
   "execution_count": null,
   "id": "8a68d5aa",
   "metadata": {},
   "outputs": [],
   "source": [
    "import os\n",
    "import cv2\n",
    "from paddleocr import PPStructure,save_structure_res\n",
    "from paddleocr.ppstructure.recovery.recovery_to_doc import sorted_layout_boxes, convert_info_docx\n",
    "\n",
    "table_engine = PPStructure(recovery=True,lang='ch')\n",
    "\n",
    "save_folder = './ocrtest1.ocr.xlsx'\n",
    "img_path = 'ocrtest1.jpg'\n",
    "img = cv2.imread(img_path)\n",
    "result = table_engine(img)\n",
    "save_structure_res(result, save_folder, os.path.basename(img_path).split('.')[0])\n",
    "\n",
    "for line in result:\n",
    "    line.pop('img')\n",
    "    print(line)\n",
    "\n",
    "h, w, _ = img.shape\n",
    "res = sorted_layout_boxes(result, w)\n",
    "convert_info_docx(img, res, save_folder, os.path.basename(img_path).split('.')[0])\n",
    "convert_info_word(image,res,save,os.path)"
   ]
  },
  {
   "cell_type": "markdown",
   "id": "f6f1b205",
   "metadata": {},
   "source": [
    "# Table Recognition"
   ]
  },
  {
   "cell_type": "code",
   "execution_count": null,
   "id": "a784feac",
   "metadata": {
    "scrolled": true
   },
   "outputs": [],
   "source": [
    "import os\n",
    "import cv2\n",
    "from paddleocr import PPStructure,save_structure_res\n",
    "\n",
    "table_engine = PPStructure(layout=False, show_log=True)\n",
    "\n",
    "save_folder = './output'\n",
    "img_path = 'ocrtest1.png'\n",
    "img = cv2.imread(img_path)\n",
    "result = table_engine(img)\n",
    "save_structure_res(result, save_folder, os.path.basename(img_path).split('.')[0])\n",
    "\n",
    "for line in result:\n",
    "    line.pop('img')\n",
    "    print(line)"
   ]
  },
  {
   "cell_type": "markdown",
   "id": "2bc97841",
   "metadata": {},
   "source": [
    "# Table Recongition and layout Analysis"
   ]
  },
  {
   "cell_type": "code",
   "execution_count": null,
   "id": "b7066af3",
   "metadata": {
    "scrolled": true
   },
   "outputs": [],
   "source": [
    "import os\n",
    "import cv2\n",
    "from paddleocr import PPStructure,draw_structure_result,save_structure_res\n",
    "\n",
    "table_engine = PPStructure(show_log=True)\n",
    "\n",
    "save_folder = './output'\n",
    "img_path = 'ocrtest1.png'\n",
    "img = cv2.imread(img_path)\n",
    "result = table_engine(img)\n",
    "save_structure_res(result, save_folder,os.path.basename(img_path).split('.')[0])\n",
    "\n",
    "for line in result:\n",
    "    line.pop('img')\n",
    "    print(line)\n",
    "\n",
    "from PIL import Image\n",
    "\n",
    "font_path = 'bahnschrift.ttf' # font provieded in PaddleOCR\n",
    "image = Image.open(img_path).convert('RGB')\n",
    "im_show = draw_structure_result(image, result,font_path=font_path)\n",
    "im_show = Image.fromarray(im_show)\n",
    "im_show.save('result.jpg')"
   ]
  },
  {
   "cell_type": "markdown",
   "id": "1410b83e",
   "metadata": {},
   "source": [
    "# All dimension analysis"
   ]
  },
  {
   "cell_type": "code",
   "execution_count": null,
   "id": "e63bdef2",
   "metadata": {
    "scrolled": true
   },
   "outputs": [],
   "source": [
    "import os\n",
    "import cv2\n",
    "from paddleocr import PPStructure,draw_structure_result,save_structure_res\n",
    "\n",
    "table_engine = PPStructure(show_log=True, image_orientation=True)\n",
    "save_folder = './output'\n",
    "img_path = 'ocrtest1.png'\n",
    "img = cv2.imread(img_path)\n",
    "result = table_engine(img)\n",
    "save_structure_res(result, save_folder,os.path.basename(img_path).split('.')[0])\n",
    "for line in result:\n",
    "    line.pop('img')\n",
    "    print(line)\n",
    "\n",
    "from PIL import Image\n",
    "\n",
    "font_path = 'comic.ttf' # PaddleOCR下提供字体包\n",
    "image = Image.open(img_path).convert('RGB')\n",
    "im_show = draw_structure_result(image, result,font_path=font_path)\n",
    "im_show = Image.fromarray(im_show)\n",
    "image_path='result.png'\n",
    "im_show.save(image_path)"
   ]
  },
  {
   "cell_type": "markdown",
   "id": "b5ff7c50",
   "metadata": {},
   "source": [
    "# Table Recognition And Image2table"
   ]
  },
  {
   "cell_type": "code",
   "execution_count": null,
   "id": "4bdf71af",
   "metadata": {
    "scrolled": true
   },
   "outputs": [],
   "source": [
    "import os\n",
    "import cv2\n",
    "from paddleocr import PPStructure,save_structure_res\n",
    "\n",
    "table_engine = PPStructure(layout=False, show_log=True)\n",
    "\n",
    "save_folder = './output'\n",
    "img_path = 'ocrtest1.png'\n",
    "img = cv2.imread(img_path)\n",
    "result = table_engine(img)\n",
    "save_structure_res(result, save_folder, os.path.basename(img_path).split('.')[0])\n",
    "\n",
    "for line in result:\n",
    "    line.pop('img')\n",
    "    print(line)\n",
    "\n",
    "\n",
    "# from img2table.ocr import PaddleOCR\n",
    "# from img2table.document import Image\n",
    "\n",
    "# ocr = PaddleOCR(\"ch\")\n",
    "\n",
    "# doc = Image(\"ocrtest1.png\")\n",
    "\n",
    "# doc.to_xlsx(dest=\"outputs.xlsx\",\n",
    "#             ocr=ocr,\n",
    "#             implicit_rows=False,\n",
    "#             borderless_tables=False,\n",
    "#             min_confidence=50)"
   ]
  },
  {
   "cell_type": "markdown",
   "id": "3bb9bd6e",
   "metadata": {},
   "source": [
    "# Layout Analysis and Image2table"
   ]
  },
  {
   "cell_type": "code",
   "execution_count": null,
   "id": "9525d4dc",
   "metadata": {
    "scrolled": true
   },
   "outputs": [],
   "source": [
    "import os\n",
    "import cv2\n",
    "from paddleocr import PPStructure,save_structure_res\n",
    "\n",
    "table_engine = PPStructure(table=False, ocr=False, show_log=True)\n",
    "\n",
    "save_folder = \"ocrtest1\"\n",
    "img_path = 'ocrtest1.png'\n",
    "img = cv2.imread(img_path)\n",
    "result = table_engine(img)\n",
    "save_structure_res(result, save_folder, os.path.basename(img_path).split('.')[0])\n",
    "\n",
    "for line in result:\n",
    "    line.pop('img')\n",
    "    print(line)\n",
    "print(format)\n",
    "# from img2table.ocr import PaddleOCR\n",
    "# from img2table.document import Image\n",
    "\n",
    "# ocr = PaddleOCR(\"ch\")\n",
    "\n",
    "# doc = Image(img_path)\n",
    "\n",
    "# doc.to_xlsx(dest=\"outputs.xlsx\",\n",
    "#             ocr=ocr,\n",
    "#             implicit_rows=False,\n",
    "#             borderless_tables=False,\n",
    "#             min_confidence=50)\n",
    "    "
   ]
  },
  {
   "cell_type": "markdown",
   "id": "43d43f97",
   "metadata": {},
   "source": [
    "# layout analysis + table recognition"
   ]
  },
  {
   "cell_type": "code",
   "execution_count": null,
   "id": "fa45189e",
   "metadata": {},
   "outputs": [],
   "source": [
    "import os\n",
    "import cv2\n",
    "from paddleocr import PPStructure,draw_structure_result,save_structure_res\n",
    "\n",
    "table_engine = PPStructure(show_log=True)\n",
    "\n",
    "save_folder = './output'\n",
    "img_path = 'ocrtest1.png'\n",
    "img = cv2.imread(img_path)\n",
    "result = table_engine(img)\n",
    "save_structure_res(result, save_folder,os.path.basename(img_path).split('.')[0])\n",
    "\n",
    "for line in result:\n",
    "    line.pop('img')\n",
    "    print(line)\n",
    "\n",
    "from PIL import Image\n",
    "\n",
    "font_path = 'comic.ttf' \n",
    "image = Image.open(img_path).convert('RGB')\n",
    "im_show = draw_structure_result(image, result,font_path=font_path)\n",
    "im_show = Image.fromarray(im_show)\n",
    "im_show.save('result.jpg')"
   ]
  },
  {
   "cell_type": "code",
   "execution_count": null,
   "id": "2a6047e7",
   "metadata": {},
   "outputs": [],
   "source": [
    "import os\n",
    "import cv2\n",
    "from paddleocr import PPStructure,save_structure_res\n",
    "\n",
    "table_engine = PPStructure(layout=False, show_log=True)\n",
    "\n",
    "save_folder = './output'\n",
    "img_path = 'ocrtest1.png'\n",
    "img = cv2.imread(img_path)\n",
    "result = table_engine(img)\n",
    "save_structure_res(result, save_folder, os.path.basename(img_path).split('.')[0])\n",
    "\n",
    "for line in result:\n",
    "    line.pop('img')\n",
    "    print(line)"
   ]
  },
  {
   "cell_type": "code",
   "execution_count": null,
   "id": "77bc9f02",
   "metadata": {},
   "outputs": [],
   "source": [
    "from img2table.ocr import PaddleOCR\n",
    "from img2table.document import Image\n",
    "\n",
    "ocr = PaddleOCR(\"en\")\n",
    "doc=Image(\"ocrtest1.jpg\")\n",
    "doc.to_xlsx(dest=\"outputschinese.xlsx\",\n",
    "            ocr=ocr,\n",
    "            implicit_rows=False,\n",
    "            borderless_tables=False,\n",
    "            min_confidence=75)\n",
    "\n",
    "doc.to_xlsx(dest=\"chinese.xlsx\",ocr=ocr)"
   ]
  },
  {
   "cell_type": "code",
   "execution_count": null,
   "id": "f3ab082b",
   "metadata": {},
   "outputs": [],
   "source": []
  },
  {
   "cell_type": "code",
   "execution_count": null,
   "id": "612b970c",
   "metadata": {},
   "outputs": [],
   "source": [
    "# from PIL import Image\n",
    "# def get_dpi(image_path):\n",
    "#     im=Image.open(image_path)\n",
    "#     return im.info['dpi']\n",
    "# get_dpi('ocrtest1.png')"
   ]
  },
  {
   "cell_type": "code",
   "execution_count": null,
   "id": "59cc3276",
   "metadata": {},
   "outputs": [],
   "source": [
    "image_path='ocrtest1.png'\n",
    "im=Image.open(image_path)\n",
    "print(im)"
   ]
  },
  {
   "cell_type": "markdown",
   "id": "828878a4",
   "metadata": {},
   "source": [
    "# Displaying an Image"
   ]
  },
  {
   "cell_type": "code",
   "execution_count": null,
   "id": "ca7afbc9",
   "metadata": {},
   "outputs": [],
   "source": [
    "image_file = \"ocrtest1.png\"\n",
    "img = cv2.imread(image_file)"
   ]
  },
  {
   "cell_type": "code",
   "execution_count": null,
   "id": "5a45ac12",
   "metadata": {},
   "outputs": [],
   "source": [
    "#https://stackoverflow.com/questions/28816046/\n",
    "#displaying-different-images-with-actual-size-in-matplotlib-subplot\n",
    "def display(im_path):\n",
    "    dpi = 80\n",
    "    im_data = plt.imread(im_path)\n",
    "   \n",
    "    height, width  = im_data.shape[:2]\n",
    "    \n",
    "    # What size does the figure need to be in inches to fit the image?\n",
    "    figsize = width / float(dpi), height / float(dpi)\n",
    "\n",
    "    # Create a figure of the right size with one axes that takes up the full figure\n",
    "    fig = plt.figure(figsize=figsize)\n",
    "    ax = fig.add_axes([0, 0, 1, 1])\n",
    "\n",
    "    # Hide spines, ticks, etc.\n",
    "    ax.axis('off')\n",
    "\n",
    "    # Display the image.\n",
    "    ax.imshow(im_data, cmap='gray')\n",
    "\n",
    "    plt.show()"
   ]
  },
  {
   "cell_type": "code",
   "execution_count": null,
   "id": "597a4a71",
   "metadata": {},
   "outputs": [],
   "source": [
    "display(image_file)"
   ]
  },
  {
   "cell_type": "code",
   "execution_count": null,
   "id": "5f8be3db",
   "metadata": {},
   "outputs": [],
   "source": [
    "print(type(cv2.imread(image_file)))"
   ]
  },
  {
   "cell_type": "code",
   "execution_count": null,
   "id": "bb3a220a",
   "metadata": {},
   "outputs": [],
   "source": [
    "inverted_image=cv2.bitwise_not(img)\n",
    "cv2.imwrite(\"inverted.png\",inverted_image)"
   ]
  },
  {
   "cell_type": "code",
   "execution_count": null,
   "id": "0f108f6c",
   "metadata": {},
   "outputs": [],
   "source": [
    "from img2table.ocr import PaddleOCR\n",
    "from img2table.document import Image\n",
    "\n",
    "ocr = PaddleOCR(\"en\")\n",
    "\n",
    "doc = Image(\"ocrtest1.png\")\n",
    "\n",
    "doc.to_xlsx(dest=\"outputschinese.xlsx\",\n",
    "            ocr=ocr,\n",
    "            implicit_rows=False,\n",
    "            borderless_tables=False,\n",
    "            min_confidence=50)\n"
   ]
  },
  {
   "cell_type": "code",
   "execution_count": null,
   "id": "aa00830c",
   "metadata": {
    "scrolled": true
   },
   "outputs": [],
   "source": [
    "display(\"inverted.jpg\")"
   ]
  },
  {
   "cell_type": "code",
   "execution_count": null,
   "id": "5378d337",
   "metadata": {},
   "outputs": [],
   "source": [
    "from img2table.ocr import PaddleOCR\n",
    "from img2table.document import Image\n",
    "\n",
    "ocr = PaddleOCR(\"en\")\n",
    "\n",
    "doc = Image(\"inverted.png\")\n",
    "\n",
    "doc.to_xlsx(dest=\"outputschineseinverted.xlsx\",\n",
    "            ocr=ocr,\n",
    "            implicit_rows=False,\n",
    "            borderless_tables=False,\n",
    "            min_confidence=50)"
   ]
  },
  {
   "cell_type": "code",
   "execution_count": null,
   "id": "77277df7",
   "metadata": {},
   "outputs": [],
   "source": [
    "def grayscale(image):\n",
    "    return cv2.cvtColor(image, cv2.COLOR_BGR2GRAY)"
   ]
  },
  {
   "cell_type": "code",
   "execution_count": null,
   "id": "8da82c9e",
   "metadata": {},
   "outputs": [],
   "source": [
    "gray_img=grayscale(img)\n",
    "cv2.imwrite(\"grayscale.png\", gray_img)"
   ]
  },
  {
   "cell_type": "code",
   "execution_count": null,
   "id": "ab4e2475",
   "metadata": {},
   "outputs": [],
   "source": [
    "print(gray_img)"
   ]
  },
  {
   "cell_type": "code",
   "execution_count": null,
   "id": "857c4275",
   "metadata": {},
   "outputs": [],
   "source": []
  },
  {
   "cell_type": "code",
   "execution_count": null,
   "id": "1e725387",
   "metadata": {},
   "outputs": [],
   "source": [
    "display(\"grayscale.png\")"
   ]
  },
  {
   "cell_type": "code",
   "execution_count": null,
   "id": "2e7b1631",
   "metadata": {},
   "outputs": [],
   "source": [
    "from img2table.ocr import PaddleOCR\n",
    "from img2table.document import Image\n",
    "\n",
    "ocr = PaddleOCR(\"en\")\n",
    "\n",
    "doc = Image(\"grayscale.png\")\n",
    "\n",
    "doc.to_xlsx(dest=\"outputschinesegrayscale.xlsx\",\n",
    "            ocr=ocr,\n",
    "            implicit_rows=False,\n",
    "            borderless_tables=False,\n",
    "            min_confidence=50)"
   ]
  },
  {
   "cell_type": "code",
   "execution_count": null,
   "id": "a46f8e33",
   "metadata": {},
   "outputs": [],
   "source": [
    "def thin_font(image):\n",
    "    import numpy as np\n",
    "    image = cv2.bitwise_not(image)\n",
    "    kernel = np.ones((2,2),np.uint8)\n",
    "    image = cv2.erode(image, kernel, iterations=1)\n",
    "    image = cv2.bitwise_not(image)\n",
    "    return (image)"
   ]
  },
  {
   "cell_type": "code",
   "execution_count": null,
   "id": "67ad6b69",
   "metadata": {},
   "outputs": [],
   "source": [
    "eroded_image = thin_font(gray_img)\n",
    "cv2.imwrite(\"eroded_image.jpg\", eroded_image)"
   ]
  },
  {
   "cell_type": "code",
   "execution_count": null,
   "id": "bf285d50",
   "metadata": {},
   "outputs": [],
   "source": [
    "from img2table.ocr import PaddleOCR\n",
    "from img2table.document import Image\n",
    "\n",
    "ocr = PaddleOCR(\"en\")\n",
    "\n",
    "doc = Image(\"eroded_image.jpg\")\n",
    "\n",
    "doc.to_xlsx(dest=\"outputschinesethinfont.xlsx\",\n",
    "            ocr=ocr,\n",
    "            implicit_rows=False,\n",
    "            borderless_tables=False,\n",
    "            min_confidence=50)"
   ]
  },
  {
   "cell_type": "code",
   "execution_count": null,
   "id": "292e5b85",
   "metadata": {},
   "outputs": [],
   "source": [
    "def thick_font(image):\n",
    "    import numpy as np\n",
    "    image = cv2.bitwise_not(image)\n",
    "    kernel = np.ones((2,2),np.uint8)\n",
    "    image = cv2.dilate(image, kernel, iterations=1)\n",
    "    image = cv2.bitwise_not(image)\n",
    "    return (image)"
   ]
  },
  {
   "cell_type": "code",
   "execution_count": null,
   "id": "1325b752",
   "metadata": {},
   "outputs": [],
   "source": [
    "import os\n",
    "import cv2\n",
    "from paddleocr import PPStructure,draw_structure_result,save_structure_res\n",
    "\n",
    "table_engine = PPStructure(show_log=True, image_orientation=True)\n",
    "\n",
    "save_folder = './result'\n",
    "img_path = 'ocrtest1.png'\n",
    "img = cv2.imread(img_path)\n",
    "result = table_engine(img)\n",
    "save_structure_res(result, save_folder,os.path.basename(img_path).split('.')[0])\n",
    "\n",
    "for line in result:\n",
    "    line.pop('img')\n",
    "    print(line)\n",
    "\n",
    "from PIL import Image\n",
    "\n",
    "font_path = 'comic.ttf' \n",
    "image = Image.open(img_path).convert('RGB')\n",
    "im_show = draw_structure_result(image, result,font_path=font_path)\n",
    "im_show = Image.fromarray(im_show)\n",
    "im_show.save('result.jpg')"
   ]
  },
  {
   "cell_type": "code",
   "execution_count": null,
   "id": "f5bedaf4",
   "metadata": {},
   "outputs": [],
   "source": []
  },
  {
   "cell_type": "code",
   "execution_count": null,
   "id": "cb5fb65f",
   "metadata": {},
   "outputs": [],
   "source": []
  }
 ],
 "metadata": {
  "kernelspec": {
   "display_name": "Python 3 (ipykernel)",
   "language": "python",
   "name": "python3"
  },
  "language_info": {
   "codemirror_mode": {
    "name": "ipython",
    "version": 3
   },
   "file_extension": ".py",
   "mimetype": "text/x-python",
   "name": "python",
   "nbconvert_exporter": "python",
   "pygments_lexer": "ipython3",
   "version": "3.11.3"
  }
 },
 "nbformat": 4,
 "nbformat_minor": 5
}
